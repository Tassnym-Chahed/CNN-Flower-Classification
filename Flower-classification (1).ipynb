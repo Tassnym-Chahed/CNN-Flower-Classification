{
 "cells": [
  {
   "cell_type": "code",
   "execution_count": 3,
   "id": "6df06217-0fc4-4538-b0ac-7fd86c5cf600",
   "metadata": {},
   "outputs": [],
   "source": [
    "# Install packages\n",
    "import numpy as np\n",
    "import tensorflow as tf\n",
    "from keras.preprocessing.image import ImageDataGenerator\n",
    "import matplotlib.pyplot as plt\n"
   ]
  },
  {
   "cell_type": "code",
   "execution_count": 5,
   "id": "c21503b0-6038-4183-8ae1-80f1bf33926d",
   "metadata": {},
   "outputs": [],
   "source": [
    "TRAIN_DIR = \"/Users/tassnymechchahed/Desktop/Dataset for Jupyter/Flowers - CNN/Archive/Train\"\n",
    "TEST_DIR = \"/Users/tassnymechchahed/Desktop/Dataset for Jupyter/Flowers - CNN/Archive/Test\"\n",
    "VAL_DIR = \"/Users/tassnymechchahed/Desktop/Dataset for Jupyter/Flowers - CNN/Archive/Validate\""
   ]
  },
  {
   "cell_type": "code",
   "execution_count": 6,
   "id": "87ca7260-0a05-4010-8158-e0aa585ce4ef",
   "metadata": {},
   "outputs": [
    {
     "name": "stdout",
     "output_type": "stream",
     "text": [
      "Found 2602 images belonging to 5 classes.\n",
      "Found 616 images belonging to 5 classes.\n"
     ]
    }
   ],
   "source": [
    "# Data augmentation\n",
    "train_datagen = ImageDataGenerator(\n",
    "                    rescale = 1./255,\n",
    "                    shear_range = 0.2,\n",
    "                    zoom_range = 0.2,\n",
    "                    horizontal_flip=True)\n",
    "train_set = train_datagen.flow_from_directory(TRAIN_DIR, target_size=(224,224), batch_size=32, class_mode='categorical')\n",
    "\n",
    "val_datagen = ImageDataGenerator(rescale = 1./255)\n",
    "val_set = train_datagen.flow_from_directory(VAL_DIR, target_size=(224,224), batch_size=32, class_mode='categorical')\n",
    "    "
   ]
  },
  {
   "cell_type": "code",
   "execution_count": 14,
   "id": "c39cb4cf-fec1-4fc5-ba79-da7c1306ed88",
   "metadata": {},
   "outputs": [],
   "source": [
    "#Build model\n",
    "model = tf.keras.models.Sequential()\n",
    "# First Block\n",
    "model.add(tf.keras.layers.Conv2D(filters =32, kernel_size= (5,5), padding='Same', activation='relu', input_shape = [224,224,3]))\n",
    "model.add(tf.keras.layers.MaxPooling2D(pool_size=(2,2), strides=(2,2)))\n",
    "# Second Block\n",
    "model.add(tf.keras.layers.Conv2D(filters = 64, kernel_size= (5,5), padding='Same', activation='relu' ))\n",
    "model.add(tf.keras.layers.MaxPooling2D(pool_size=(2,2), strides=(2,2)))\n",
    "model.add(tf.keras.layers.Dropout(0.5))\n",
    "# Third Block                                 \n",
    "model.add(tf.keras.layers.Conv2D(filters = 96, kernel_size= (5,5), padding='Same', activation='relu' ))\n",
    "model.add(tf.keras.layers.MaxPooling2D(pool_size=(2,2), strides=(2,2)))\n",
    "model.add(tf.keras.layers.Dropout(0.5))\n",
    "# Fourth Block\n",
    "model.add(tf.keras.layers.Conv2D(filters = 96, kernel_size= (5,5), padding='Same', activation='relu' ))\n",
    "model.add(tf.keras.layers.MaxPooling2D(pool_size=(2,2), strides=(2,2)))\n",
    "model.add(tf.keras.layers.Dropout(0.5))                                "
   ]
  },
  {
   "cell_type": "code",
   "execution_count": 15,
   "id": "0a971430-ee87-499d-a795-75b605af9eeb",
   "metadata": {},
   "outputs": [
    {
     "name": "stdout",
     "output_type": "stream",
     "text": [
      "Model: \"sequential_5\"\n",
      "_________________________________________________________________\n",
      " Layer (type)                Output Shape              Param #   \n",
      "=================================================================\n",
      " conv2d (Conv2D)             (None, 224, 224, 32)      2432      \n",
      "                                                                 \n",
      " max_pooling2d (MaxPooling2D  (None, 112, 112, 32)     0         \n",
      " )                                                               \n",
      "                                                                 \n",
      " conv2d_1 (Conv2D)           (None, 112, 112, 64)      51264     \n",
      "                                                                 \n",
      " max_pooling2d_1 (MaxPooling  (None, 56, 56, 64)       0         \n",
      " 2D)                                                             \n",
      "                                                                 \n",
      " dropout (Dropout)           (None, 56, 56, 64)        0         \n",
      "                                                                 \n",
      " conv2d_2 (Conv2D)           (None, 56, 56, 96)        153696    \n",
      "                                                                 \n",
      " max_pooling2d_2 (MaxPooling  (None, 28, 28, 96)       0         \n",
      " 2D)                                                             \n",
      "                                                                 \n",
      " dropout_1 (Dropout)         (None, 28, 28, 96)        0         \n",
      "                                                                 \n",
      " conv2d_3 (Conv2D)           (None, 28, 28, 96)        230496    \n",
      "                                                                 \n",
      " max_pooling2d_3 (MaxPooling  (None, 14, 14, 96)       0         \n",
      " 2D)                                                             \n",
      "                                                                 \n",
      " dropout_2 (Dropout)         (None, 14, 14, 96)        0         \n",
      "                                                                 \n",
      " flatten (Flatten)           (None, 18816)             0         \n",
      "                                                                 \n",
      " dense (Dense)               (None, 512)               9634304   \n",
      "                                                                 \n",
      " dense_1 (Dense)             (None, 5)                 2565      \n",
      "                                                                 \n",
      "=================================================================\n",
      "Total params: 10,074,757\n",
      "Trainable params: 10,074,757\n",
      "Non-trainable params: 0\n",
      "_________________________________________________________________\n",
      "None\n"
     ]
    }
   ],
   "source": [
    "# Flatten before Dense layer\n",
    "model.add(tf.keras.layers.Flatten())\n",
    "\n",
    "model.add(tf.keras.layers.Dense(units=512, activation ='relu'))\n",
    "\n",
    "# Last layer = FCC\n",
    "model.add(tf.keras.layers.Dense(units = 5, activation = 'softmax'))\n",
    "\n",
    "print(model.summary())"
   ]
  },
  {
   "cell_type": "code",
   "execution_count": null,
   "id": "4f9921f2-41be-4c4e-b5e9-05ec84b7692c",
   "metadata": {},
   "outputs": [],
   "source": [
    "# Compile model\n",
    "model.compile(optimizer = 'rmsprop', loss = 'categorical_crossentropy', metrics=['accuracy'])\n",
    "\n",
    "history = model.fit(x = train_set, validation_data=val_set, batch_size=32, epochs=5)\n",
    "\n",
    "# Accuracy at each epoch\n",
    "acc = history.history['accuracy']\n",
    "val_acc = history.history['val_accuracy']\n",
    "\n",
    "loss = history.history['loss']\n",
    "val_loss = history.history['val_loss']\n",
    "\n",
    "print(acc)\n",
    "print(val_acc)\n"
   ]
  },
  {
   "cell_type": "code",
   "execution_count": null,
   "id": "82873a88-35bc-4510-bcc9-f3df1a67f24d",
   "metadata": {},
   "outputs": [],
   "source": [
    "model.save('"
   ]
  },
  {
   "cell_type": "code",
   "execution_count": null,
   "id": "3ae73a31-830e-4995-bfb2-12189e822f95",
   "metadata": {},
   "outputs": [],
   "source": []
  }
 ],
 "metadata": {
  "kernelspec": {
   "display_name": "Python 3 (ipykernel)",
   "language": "python",
   "name": "python3"
  },
  "language_info": {
   "codemirror_mode": {
    "name": "ipython",
    "version": 3
   },
   "file_extension": ".py",
   "mimetype": "text/x-python",
   "name": "python",
   "nbconvert_exporter": "python",
   "pygments_lexer": "ipython3",
   "version": "3.11.5"
  }
 },
 "nbformat": 4,
 "nbformat_minor": 5
}
