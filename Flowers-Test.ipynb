{
 "cells": [
  {
   "cell_type": "code",
   "execution_count": 16,
   "id": "aaf08623-a259-4c27-84ee-1a21591424b6",
   "metadata": {},
   "outputs": [
    {
     "name": "stdout",
     "output_type": "stream",
     "text": [
      "Model: \"sequential\"\n",
      "_________________________________________________________________\n",
      " Layer (type)                Output Shape              Param #   \n",
      "=================================================================\n",
      " conv2d (Conv2D)             (None, 224, 224, 32)      2432      \n",
      "                                                                 \n",
      " max_pooling2d (MaxPooling2D  (None, 112, 112, 32)     0         \n",
      " )                                                               \n",
      "                                                                 \n",
      " conv2d_1 (Conv2D)           (None, 112, 112, 64)      51264     \n",
      "                                                                 \n",
      " max_pooling2d_1 (MaxPooling  (None, 56, 56, 64)       0         \n",
      " 2D)                                                             \n",
      "                                                                 \n",
      " dropout (Dropout)           (None, 56, 56, 64)        0         \n",
      "                                                                 \n",
      " conv2d_2 (Conv2D)           (None, 56, 56, 96)        153696    \n",
      "                                                                 \n",
      " max_pooling2d_2 (MaxPooling  (None, 28, 28, 96)       0         \n",
      " 2D)                                                             \n",
      "                                                                 \n",
      " dropout_1 (Dropout)         (None, 28, 28, 96)        0         \n",
      "                                                                 \n",
      " conv2d_3 (Conv2D)           (None, 28, 28, 96)        230496    \n",
      "                                                                 \n",
      " max_pooling2d_3 (MaxPooling  (None, 14, 14, 96)       0         \n",
      " 2D)                                                             \n",
      "                                                                 \n",
      " dropout_2 (Dropout)         (None, 14, 14, 96)        0         \n",
      "                                                                 \n",
      " flatten (Flatten)           (None, 18816)             0         \n",
      "                                                                 \n",
      " dense (Dense)               (None, 512)               9634304   \n",
      "                                                                 \n",
      " dense_1 (Dense)             (None, 5)                 2565      \n",
      "                                                                 \n",
      "=================================================================\n",
      "Total params: 10,074,757\n",
      "Trainable params: 10,074,757\n",
      "Non-trainable params: 0\n",
      "_________________________________________________________________\n",
      "None\n"
     ]
    }
   ],
   "source": [
    "import numpy as np\n",
    "import tensorflow as tf\n",
    "from tensorflow.keras.preprocessing.image import ImageDataGenerator\n",
    "from tensorflow.keras.preprocessing import image\n",
    "\n",
    "# Flower Categories\n",
    "flower_categories = ['daisy', 'dandelion','rose','sunflower','tulip']\n",
    "\n",
    "# Load the model\n",
    "model = tf.keras.models.load_model('/Users/tassnymechchahed/Desktop/Flower-classification (1).h5')\n",
    "print(model.summary())"
   ]
  },
  {
   "cell_type": "code",
   "execution_count": 17,
   "id": "61cf67f7-3fcb-47d5-bbac-b9b235aa42d0",
   "metadata": {},
   "outputs": [
    {
     "name": "stdout",
     "output_type": "stream",
     "text": [
      "(224, 224, 3)\n"
     ]
    }
   ],
   "source": [
    "# Set fix target size\n",
    "img_path = \"/Users/tassnymechchahed/Desktop/Dataset for Jupyter/Flowers - CNN/Archive/Test/rose/8987479080_32ab912d10_n.jpg\"\n",
    "test_image = image.load_img(img_path, target_size =(224,224))\n",
    "\n",
    "#convert image into numpy array\n",
    "test_image = image.img_to_array(test_image)\n",
    "print(test_image.shape)"
   ]
  },
  {
   "cell_type": "code",
   "execution_count": 18,
   "id": "0700e793-5c26-427f-a928-04147a5dadb3",
   "metadata": {},
   "outputs": [
    {
     "name": "stdout",
     "output_type": "stream",
     "text": [
      "(1, 224, 224, 3)\n",
      "1/1 [==============================] - 0s 80ms/step\n",
      "[[0. 0. 1. 0. 0.]]\n",
      "The flower is Rose\n"
     ]
    }
   ],
   "source": [
    "# Expand the array with another dimension\n",
    "test_image = np.expand_dims(test_image, axis=0)\n",
    "print(test_image.shape)\n",
    "\n",
    "#predict category image\n",
    "result = model.predict(test_image)\n",
    "print(result)\n",
    "\n",
    "#Predicting a flower and not a number\n",
    "if result[0][0] == 1:\n",
    "    print('The flower is Daisy')\n",
    "elif result[0][1] == 1:\n",
    "    print('The flower is Dandelion')\n",
    "elif result[0][2] == 1:\n",
    "    print('The flower is Rose')\n",
    "elif result[0][3] == 1:\n",
    "    print('The flower is Sunflower')\n",
    "elif result[0][4] == 1:\n",
    "    print('The flower is Tulip')"
   ]
  },
  {
   "cell_type": "code",
   "execution_count": null,
   "id": "00a60506-db9f-423e-a172-9d5a5dbb715e",
   "metadata": {},
   "outputs": [],
   "source": []
  }
 ],
 "metadata": {
  "kernelspec": {
   "display_name": "Python 3 (ipykernel)",
   "language": "python",
   "name": "python3"
  },
  "language_info": {
   "codemirror_mode": {
    "name": "ipython",
    "version": 3
   },
   "file_extension": ".py",
   "mimetype": "text/x-python",
   "name": "python",
   "nbconvert_exporter": "python",
   "pygments_lexer": "ipython3",
   "version": "3.11.5"
  }
 },
 "nbformat": 4,
 "nbformat_minor": 5
}
